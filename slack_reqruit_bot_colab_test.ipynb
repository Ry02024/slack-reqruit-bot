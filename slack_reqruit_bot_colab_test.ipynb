# --- Colab用ノートブック例 ---

# 1. 必要なパッケージのインストール
!pip install beautifulsoup4 requests

# 2. GitHubリポジトリのクローン
!git clone https://github.com/Ry02024/slack-reqruit-bot.git

# 3. sys.pathにsrcディレクトリを追加し、モジュールをimport
import sys
sys.path.append('/content/slack-reqruit-bot/src')

# 4. モジュールのインポート
from company_recruit_analysis import CompanyRecruitAnalysis
from gemini_slack_poster import GeminiSlackPoster

# 5. ダミーAPIキー・トークン・チャンネルIDを用意（本番用は環境変数や安全な方法で設定してください）
GEMINI_API_KEY = 'dummy_api_key'
SLACK_BOT_TOKEN = 'dummy_slack_token'
SLACK_CHANNEL_ID = ['dummy_channel']

# 6. テスト用のデータを用意
sample_job_text = """3. 🏢 日本航空株式会社(JAL)-東京都港区
データサイエンティスト
給与: 400万～
特徴: DX推進"""

sample_original_text = """
1. 🏢 株式会社ブレインパッド
勤務地: 六本木
職種: データサイエンティスト
給与: 420万～
特徴: 公平な評価制度
"""

# 7. クラスの初期化＆メソッド呼び出し例

print("----- CompanyRecruitAnalysisのテスト -----")
analyzer = CompanyRecruitAnalysis(
    api_key=GEMINI_API_KEY,
    slack_bot_token=SLACK_BOT_TOKEN,
    slack_channel_id=SLACK_CHANNEL_ID
)
company_name = analyzer.extract_company_name(sample_job_text)
analysis_result = analyzer.analyze_company(sample_job_text)

print("\n----- GeminiSlackPosterのテスト -----")
poster = GeminiSlackPoster(
    gemini_api=GEMINI_API_KEY,
    slack_bot_token=SLACK_BOT_TOKEN,
    slack_channel_id=SLACK_CHANNEL_ID
)
summary = poster.summary_client(sample_original_text)

# 必要に応じてSlack投稿などのメソッドも呼び出せます
# analyzer.post_message_to_slack(analysis_result)
# poster.post_message_to_slack(summary)